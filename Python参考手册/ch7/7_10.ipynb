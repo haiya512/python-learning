{
 "cells": [
  {
   "cell_type": "code",
   "execution_count": 1,
   "metadata": {},
   "outputs": [],
   "source": [
    "class Circle(object):\n",
    "    def __init__(self, radius):\n",
    "        self.radius = radius"
   ]
  },
  {
   "cell_type": "code",
   "execution_count": 8,
   "metadata": {},
   "outputs": [
    {
     "name": "stdout",
     "output_type": "stream",
     "text": [
      "<bound method Circle.__init__ of <__main__.Circle object at 0x103e88790>>\n",
      "<__main__.Circle object at 0x103dcd710>\n"
     ]
    }
   ],
   "source": [
    "c = Circle(4.0)\n",
    "d = Circle(5.0)\n",
    "c = Circle.__new__(Circle, 4.0)\n",
    "if isinstance(c, Circle):\n",
    "    Circle.__init__(c, 4.0)\n"
   ]
  },
  {
   "cell_type": "code",
   "execution_count": 12,
   "metadata": {},
   "outputs": [],
   "source": [
    "class Account(object):\n",
    "    def __init__(self, name, balance):\n",
    "        self.name = name\n",
    "        self.balance = balance\n",
    "        self.observers = set()\n",
    "    def __del__(self):\n",
    "        for ob in self.observers:\n",
    "            ob.close()\n",
    "        del self.observers\n",
    "    def register(self, observer):\n",
    "        self.observers.add(observer)\n",
    "    def unregister(self, observer):\n",
    "        self.observers.remove(observer)\n",
    "    def notify(self):\n",
    "        for ob in self.observers:\n",
    "            ob.update()\n",
    "    def withdraw(self,amt):\n",
    "        self.balance -= amt\n",
    "        self.notify()\n",
    "class AccountObserver(object):\n",
    "    def __init__(self, theaccount):\n",
    "        self.theaccount = theaccount\n",
    "        theaccount.register(self)\n",
    "    def __del__(self):\n",
    "        self.theaccount.unregister(self)\n",
    "        del self.theaccount\n",
    "    def update(self):\n",
    "        print(\"Balance is %0.2f\" % self.theaccount.balance)\n",
    "    def close(self):\n",
    "        print(\"Account no longer in use\")"
   ]
  },
  {
   "cell_type": "code",
   "execution_count": 13,
   "metadata": {},
   "outputs": [],
   "source": [
    "a = Account(\"Dave\", 1000.00)\n",
    "a_ob = AccountObserver(a)"
   ]
  },
  {
   "cell_type": "code",
   "execution_count": 14,
   "metadata": {},
   "outputs": [
    {
     "name": "stdout",
     "output_type": "stream",
     "text": [
      "<__main__.AccountObserver object at 0x103e88210>\n"
     ]
    }
   ],
   "source": [
    "import weakref\n",
    "class AccountObserver(object):\n",
    "    def __init__(self, theaccount):\n",
    "        self.accountref = weakref.ref(theaccount)\n",
    "        theaccount.register(self)\n",
    "    def __del__(self):\n",
    "        acc = self.accountref()\n",
    "        if acc:\n",
    "            acc.unregister(self)\n",
    "    def update(self):\n",
    "        print(\"Balance is %0.2f\" % self.theaccount.balance)\n",
    "    def close(self):\n",
    "        print(\"Account no longer in use\")"
   ]
  },
  {
   "cell_type": "code",
   "execution_count": 15,
   "metadata": {},
   "outputs": [],
   "source": [
    "a = Account(\"Guido\", 1100.0)"
   ]
  },
  {
   "cell_type": "code",
   "execution_count": 17,
   "metadata": {},
   "outputs": [
    {
     "data": {
      "text/plain": [
       "{'balance': 1100.0, 'name': 'Guido', 'number': 1234, 'observers': set()}"
      ]
     },
     "execution_count": 17,
     "metadata": {},
     "output_type": "execute_result"
    }
   ],
   "source": [
    "a.number = 1234\n",
    "a.__dict__"
   ]
  },
  {
   "cell_type": "code",
   "execution_count": 18,
   "metadata": {},
   "outputs": [
    {
     "data": {
      "text/plain": [
       "dict_proxy({'__del__': <function __main__.__del__>,\n",
       "            '__dict__': <attribute '__dict__' of 'Account' objects>,\n",
       "            '__doc__': None,\n",
       "            '__init__': <function __main__.__init__>,\n",
       "            '__module__': '__main__',\n",
       "            '__weakref__': <attribute '__weakref__' of 'Account' objects>,\n",
       "            'notify': <function __main__.notify>,\n",
       "            'register': <function __main__.register>,\n",
       "            'unregister': <function __main__.unregister>,\n",
       "            'withdraw': <function __main__.withdraw>})"
      ]
     },
     "execution_count": 18,
     "metadata": {},
     "output_type": "execute_result"
    }
   ],
   "source": [
    "Account.__dict__"
   ]
  },
  {
   "cell_type": "code",
   "execution_count": 20,
   "metadata": {},
   "outputs": [
    {
     "data": {
      "text/plain": [
       "<function keys>"
      ]
     },
     "execution_count": 20,
     "metadata": {},
     "output_type": "execute_result"
    }
   ],
   "source": [
    "a = {\"a\": 1, \"m\":5, \"n\": True}\n",
    "a.keys"
   ]
  },
  {
   "cell_type": "code",
   "execution_count": null,
   "metadata": {},
   "outputs": [],
   "source": []
  }
 ],
 "metadata": {
  "kernelspec": {
   "display_name": "Python 2",
   "language": "python",
   "name": "python2"
  },
  "language_info": {
   "codemirror_mode": {
    "name": "ipython",
    "version": 2
   },
   "file_extension": ".py",
   "mimetype": "text/x-python",
   "name": "python",
   "nbconvert_exporter": "python",
   "pygments_lexer": "ipython2",
   "version": "2.7.10"
  }
 },
 "nbformat": 4,
 "nbformat_minor": 2
}
