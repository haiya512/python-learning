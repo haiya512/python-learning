{
 "cells": [
  {
   "cell_type": "code",
   "execution_count": 1,
   "metadata": {},
   "outputs": [],
   "source": [
    "class Account(object):\n",
    "    num_counts = 0\n",
    "    def __init__(self,name,balance):\n",
    "        self.name = name\n",
    "        self.balance = balance\n",
    "        Account.num_counts += 1\n",
    "    def __del__(self):\n",
    "        Account.num_counts -= 1\n",
    "    def deposit(self,amt):\n",
    "        self.balance = self.balance + amt\n",
    "    def withdraw(self,amt):\n",
    "        self.balance = self.balance - amt\n",
    "    def inquiry(self):\n",
    "        return self.balance"
   ]
  },
  {
   "cell_type": "code",
   "execution_count": 4,
   "metadata": {},
   "outputs": [
    {
     "name": "stdout",
     "output_type": "stream",
     "text": [
      "0\n",
      "0\n"
     ]
    }
   ],
   "source": [
    "print(Account.num_counts)\n",
    "Account.__init__\n",
    "print(Account.num_counts)"
   ]
  },
  {
   "cell_type": "code",
   "execution_count": 5,
   "metadata": {},
   "outputs": [],
   "source": [
    "a = Account(\"Guido\", 1000)\n",
    "b = Account(\"Bill\", 10)"
   ]
  },
  {
   "cell_type": "code",
   "execution_count": 6,
   "metadata": {},
   "outputs": [
    {
     "name": "stdout",
     "output_type": "stream",
     "text": [
      "2\n",
      "2\n",
      "10\n"
     ]
    }
   ],
   "source": [
    "print(a.num_counts)\n",
    "print(b.num_counts)\n",
    "print(b.inquiry())"
   ]
  },
  {
   "cell_type": "code",
   "execution_count": 7,
   "metadata": {},
   "outputs": [
    {
     "data": {
      "text/plain": [
       "False"
      ]
     },
     "execution_count": 7,
     "metadata": {},
     "output_type": "execute_result"
    }
   ],
   "source": [
    "a is b"
   ]
  },
  {
   "cell_type": "code",
   "execution_count": 5,
   "metadata": {},
   "outputs": [],
   "source": [
    "import random\n",
    "class EvilAccount(Account):\n",
    "    def inquiry(self):\n",
    "        if random.randint(0,4) == 1:\n",
    "            return self.balance * 1.10\n",
    "        else:\n",
    "            return self.balance"
   ]
  },
  {
   "cell_type": "code",
   "execution_count": 6,
   "metadata": {},
   "outputs": [],
   "source": [
    "c = EvilAccount(\"George\", 1000.00)\n",
    "c.deposit(10.0)\n",
    "available = c.inquiry()"
   ]
  },
  {
   "cell_type": "code",
   "execution_count": null,
   "metadata": {},
   "outputs": [],
   "source": [
    "class EvilAccount(Account):\n",
    "    def __init__(self, name, balance, evilfactor):\n",
    "        Account.__init__(self, name, balance)\n",
    "        self.evilfactor = evilfactor\n",
    "    def inquiry(self):\n",
    "        if random.randint(0,4) == 1:\n",
    "            return self.balance * self.evilfactor\n",
    "        else:\n",
    "            return self.balance"
   ]
  },
  {
   "cell_type": "code",
   "execution_count": null,
   "metadata": {},
   "outputs": [],
   "source": [
    "class MoreEvilAccount(EvilAccount):\n",
    "    def deposit(self, amount):\n",
    "        self.withdraw(5.00)\n",
    "        EvilAccount.deposit(self, amount)"
   ]
  },
  {
   "cell_type": "code",
   "execution_count": null,
   "metadata": {},
   "outputs": [],
   "source": [
    "class DepositCharge(object):\n",
    "    fee = 5.00\n",
    "    def deposit_fee(self):\n",
    "        self.withdraw(self.fee)\n",
    "\n",
    "class WithdrawCharge(object):\n",
    "    fee = 2.50\n",
    "    def withdraw_fee(self):\n",
    "        self.withdraw(self.fee)\n",
    "\n",
    "class MostEvilAccount(EvilAccount, DepositCharge, WithdrawCharge):\n",
    "    def deposit(self, amt):\n",
    "        self.deposit_fee()\n",
    "        super(MostEvilAccount, self).deposit(amt)\n",
    "    def withdraw(self, amt):\n",
    "        self.withdraw_fee()\n",
    "        super(MostEvilAccount, self).withdraw(amt)"
   ]
  },
  {
   "cell_type": "code",
   "execution_count": null,
   "metadata": {},
   "outputs": [],
   "source": [
    "d = MostEvilAccount(\"Dave\", 500.00, 1.10)\n",
    "d.deposit_fee()\n",
    "d.withdraw_fee()"
   ]
  },
  {
   "cell_type": "code",
   "execution_count": null,
   "metadata": {},
   "outputs": [],
   "source": []
  }
 ],
 "metadata": {
  "kernelspec": {
   "display_name": "Python 2",
   "language": "python",
   "name": "python2"
  },
  "language_info": {
   "codemirror_mode": {
    "name": "ipython",
    "version": 2
   },
   "file_extension": ".py",
   "mimetype": "text/x-python",
   "name": "python",
   "nbconvert_exporter": "python",
   "pygments_lexer": "ipython2",
   "version": "2.7.10"
  }
 },
 "nbformat": 4,
 "nbformat_minor": 2
}
